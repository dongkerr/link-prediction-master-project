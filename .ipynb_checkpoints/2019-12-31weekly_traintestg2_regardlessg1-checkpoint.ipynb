{
 "cells": [
  {
   "cell_type": "code",
   "execution_count": 1,
   "id": "47e1730b",
   "metadata": {},
   "outputs": [],
   "source": [
    "import matplotlib.pyplot as plt\n",
    "from math import isclose\n",
    "from sklearn.decomposition import PCA\n",
    "import os\n",
    "import networkx as nx\n",
    "import numpy as np\n",
    "import pandas as pd\n",
    "from stellargraph import StellarGraph, datasets\n",
    "from stellargraph.data import EdgeSplitter\n",
    "from collections import Counter\n",
    "import multiprocessing\n",
    "from IPython.display import display, HTML\n",
    "from sklearn.model_selection import train_test_split\n",
    "from stellargraph.mapper import KGTripleGenerator\n",
    "from stellargraph.layer import ComplEx\n",
    "from tensorflow.keras import callbacks, optimizers, losses, metrics, regularizers, Model"
   ]
  },
  {
   "cell_type": "code",
   "execution_count": null,
   "id": "79c5d9f1",
   "metadata": {},
   "outputs": [],
   "source": [
    "g1 = nx.read_graphml('./data/daily/2019-12-31.graphml.bz2')\n",
    "g2 = nx.read_graphml('./data/daily/2020-01-01.graphml.bz2')\n",
    "g3 = nx.read_graphml('./data/daily/2020-01-02.graphml.bz2')\n",
    "g4 = nx.read_graphml('./data/daily/2020-01-03.graphml.bz2')\n",
    "g5 = nx.read_graphml('./data/daily/2020-01-04.graphml.bz2')\n",
    "g6 = nx.read_graphml('./data/daily/2020-01-05.graphml.bz2')\n",
    "g7 = nx.read_graphml('./data/daily/2020-01-06.graphml.bz2')\n",
    "g8 = nx.read_graphml('./data/daily/2020-01-07.graphml.bz2')"
   ]
  },
  {
   "cell_type": "code",
   "execution_count": null,
   "id": "a98a4cda",
   "metadata": {},
   "outputs": [],
   "source": [
    "g1.number_of_nodes()"
   ]
  },
  {
   "cell_type": "code",
   "execution_count": null,
   "id": "c9c1670c",
   "metadata": {},
   "outputs": [],
   "source": [
    "g2.number_of_nodes()"
   ]
  },
  {
   "cell_type": "code",
   "execution_count": null,
   "id": "df8c1c03",
   "metadata": {},
   "outputs": [],
   "source": [
    "R = nx.compose(g2, g3)\n",
    "attr_n_tx = {e: g2.edges[e]['n_tx'] + g3.edges[e]['n_tx'] for e in g2.edges & g3.edges}\n",
    "nx.set_edge_attributes(R, attr_n_tx, 'n_tx')\n",
    "attr_value = {e: g2.edges[e]['value'] + g3.edges[e]['value'] for e in g2.edges & g3.edges}\n",
    "nx.set_edge_attributes(R, attr_value, 'value')\n",
    "for i in range(4,9):\n",
    "    R = nx.compose(R, globals()[\"g\"+str(i)])\n",
    "    attr_n_tx = {e: R.edges[e]['n_tx'] + globals()[\"g\"+str(i)].edges[e]['n_tx'] for e in R.edges & globals()[\"g\"+str(i)].edges}\n",
    "    nx.set_edge_attributes(R, attr_n_tx, 'n_tx')\n",
    "    attr_value = {e: R.edges[e]['value'] + globals()[\"g\"+str(i)].edges[e]['value'] for e in R.edges & globals()[\"g\"+str(i)].edges}\n",
    "    nx.set_edge_attributes(R, attr_value, 'value')\n",
    "    i += 1\n",
    "\n",
    "R.number_of_nodes()"
   ]
  },
  {
   "cell_type": "code",
   "execution_count": null,
   "id": "61f4bd3e",
   "metadata": {},
   "outputs": [],
   "source": [
    "print(R.edges[('454689471', '52165230')]['n_tx'])"
   ]
  },
  {
   "cell_type": "code",
   "execution_count": null,
   "id": "6e416f58",
   "metadata": {},
   "outputs": [],
   "source": [
    "g_newlinks = R.copy()\n",
    "g_newlinks.number_of_nodes()"
   ]
  },
  {
   "cell_type": "code",
   "execution_count": null,
   "id": "3845f186",
   "metadata": {},
   "outputs": [],
   "source": [
    "g_newlinks.number_of_edges()"
   ]
  },
  {
   "cell_type": "code",
   "execution_count": null,
   "id": "81f74a72",
   "metadata": {},
   "outputs": [],
   "source": [
    "g_newlinks.remove_nodes_from(n for n in R if n not in g1)"
   ]
  },
  {
   "cell_type": "code",
   "execution_count": null,
   "id": "6b1b3b90",
   "metadata": {},
   "outputs": [],
   "source": [
    "g_newlinks.number_of_nodes()"
   ]
  },
  {
   "cell_type": "code",
   "execution_count": null,
   "id": "0dee199c",
   "metadata": {},
   "outputs": [],
   "source": [
    "g_newlinks.number_of_edges()"
   ]
  },
  {
   "cell_type": "code",
   "execution_count": null,
   "id": "dc298784",
   "metadata": {},
   "outputs": [],
   "source": [
    "g_oldlinks = g_newlinks.copy()\n",
    "g_oldlinks.remove_edges_from(e for e in R.edges if e not in g1.edges)"
   ]
  },
  {
   "cell_type": "code",
   "execution_count": null,
   "id": "3a48070a",
   "metadata": {},
   "outputs": [],
   "source": [
    "g_oldlinks.number_of_nodes()"
   ]
  },
  {
   "cell_type": "code",
   "execution_count": null,
   "id": "b5415c97",
   "metadata": {},
   "outputs": [],
   "source": [
    "g_oldlinks.number_of_edges()"
   ]
  },
  {
   "cell_type": "code",
   "execution_count": null,
   "id": "42559771",
   "metadata": {},
   "outputs": [],
   "source": [
    "g_oldlinks = StellarGraph.from_networkx(g_oldlinks,edge_weight_attr=\"n_tx\" and \"value\")\n",
    "print(g_oldlinks.info())"
   ]
  },
  {
   "cell_type": "code",
   "execution_count": null,
   "id": "f3665685",
   "metadata": {
    "scrolled": true
   },
   "outputs": [],
   "source": [
    "g_newlinks = StellarGraph.from_networkx(g_newlinks,edge_weight_attr=\"n_tx\" and \"value\")\n",
    "print(g_newlinks.info())"
   ]
  },
  {
   "cell_type": "markdown",
   "id": "1387b4bb",
   "metadata": {},
   "source": [
    "## test graph"
   ]
  },
  {
   "cell_type": "code",
   "execution_count": null,
   "id": "359fef6d",
   "metadata": {},
   "outputs": [],
   "source": [
    "# Define an edge splitter on the original graph:\n",
    "edge_splitter_test = EdgeSplitter(g_newlinks)\n",
    "\n",
    "# Randomly sample a fraction p=0.1 of all positive links, and same number of negative links, from graph, and obtain the\n",
    "# reduced graph graph_test with the sampled links removed:\n",
    "graph_test, examples_test, labels_test = edge_splitter_test.train_test_split(\n",
    "    p=0.1, method=\"global\"\n",
    ")\n",
    "#graph_test = StellarGraph.from_networkx(graph_test)\n",
    "print(graph_test.info())"
   ]
  },
  {
   "cell_type": "markdown",
   "id": "474a7fcb",
   "metadata": {},
   "source": [
    "## train graph"
   ]
  },
  {
   "cell_type": "code",
   "execution_count": null,
   "id": "1142c4c8",
   "metadata": {},
   "outputs": [],
   "source": [
    "# Do the same process to compute a training subset from within the test graph\n",
    "edge_splitter_train = EdgeSplitter(graph_test, g_newlinks)\n",
    "graph_train, examples, labels = edge_splitter_train.train_test_split(\n",
    "    p=0.1, method=\"global\"\n",
    ")\n",
    "(\n",
    "    examples_train,\n",
    "    examples_model_selection,\n",
    "    labels_train,\n",
    "    labels_model_selection,\n",
    ") = train_test_split(examples, labels, train_size=0.75, test_size=0.25)\n",
    "\n",
    "print(graph_train.info())"
   ]
  },
  {
   "cell_type": "code",
   "execution_count": null,
   "id": "439d0ec3",
   "metadata": {},
   "outputs": [],
   "source": [
    "df1 = pd.DataFrame(\n",
    "    [\n",
    "        (\n",
    "            \"Training Set\",\n",
    "            len(examples_train),\n",
    "            \"Train Graph\",\n",
    "            \"Old Graph\",\n",
    "            \"Train the Link Classifier\",\n",
    "        ),\n",
    "        (\n",
    "            \"Model Selection\",\n",
    "            len(examples_model_selection),\n",
    "            \"Train Graph\",\n",
    "            \"Old Graph\",\n",
    "            \"Select the best Link Classifier model\",\n",
    "        ),\n",
    "        (\n",
    "            \"Test set\",\n",
    "            len(examples_test),\n",
    "            \"Test Graph\",\n",
    "            \"New Graph\",\n",
    "            \"Evaluate the best Link Classifier\",\n",
    "        ),\n",
    "    ],\n",
    "    columns=(\"Split\", \"Number of Examples\", \"Hidden from\", \"Picked from\", \"Use\"),\n",
    ").set_index(\"Split\")\n",
    "display(df1)"
   ]
  },
  {
   "cell_type": "code",
   "execution_count": null,
   "id": "538ef0d6",
   "metadata": {},
   "outputs": [],
   "source": [
    "p = 1.0\n",
    "q = 1.0\n",
    "dimensions = 128\n",
    "num_walks = 1\n",
    "walk_length = 100\n",
    "window_size = 10\n",
    "num_epochs = 1\n",
    "workers = multiprocessing.cpu_count()"
   ]
  },
  {
   "cell_type": "code",
   "execution_count": null,
   "id": "1ce9f58b",
   "metadata": {
    "scrolled": true
   },
   "outputs": [],
   "source": [
    "from stellargraph.data import BiasedRandomWalk\n",
    "from gensim.models import Word2Vec\n",
    "\n",
    "\n",
    "def node2vec_embedding(graph, name):\n",
    "    rw = BiasedRandomWalk(graph)\n",
    "    walks = rw.run(graph.nodes(), n=num_walks, length=walk_length, p=p, q=q)\n",
    "    print(f\"Number of random walks for '{name}': {len(walks)}\")\n",
    "\n",
    "    model = Word2Vec(\n",
    "        walks,\n",
    "        vector_size=dimensions,\n",
    "        window=window_size,\n",
    "        min_count=0,\n",
    "        sg=1,\n",
    "        workers=workers,\n",
    "        epochs=num_epochs,\n",
    "    )\n",
    "\n",
    "    def get_embedding(u):\n",
    "        return model.wv[u]\n",
    "\n",
    "    return get_embedding"
   ]
  },
  {
   "cell_type": "code",
   "execution_count": null,
   "id": "e484e789",
   "metadata": {},
   "outputs": [],
   "source": [
    "embedding_train = node2vec_embedding(graph_train, \"Train Graph\")"
   ]
  },
  {
   "cell_type": "code",
   "execution_count": null,
   "id": "cded1e0d",
   "metadata": {},
   "outputs": [],
   "source": [
    "from sklearn.pipeline import Pipeline\n",
    "from sklearn.linear_model import LogisticRegressionCV\n",
    "from sklearn.metrics import roc_auc_score\n",
    "from sklearn.preprocessing import StandardScaler\n",
    "\n",
    "\n",
    "# 1. link embeddings\n",
    "def link_examples_to_features(link_examples, transform_node, binary_operator):\n",
    "    return [\n",
    "        binary_operator(transform_node(src), transform_node(dst))\n",
    "        for src, dst in link_examples\n",
    "    ]\n",
    "\n",
    "\n",
    "# 2. training classifier\n",
    "def train_link_prediction_model(\n",
    "    link_examples, link_labels, get_embedding, binary_operator\n",
    "):\n",
    "    clf = link_prediction_classifier()\n",
    "    link_features = link_examples_to_features(\n",
    "        link_examples, get_embedding, binary_operator\n",
    "    )\n",
    "    clf.fit(link_features, link_labels)\n",
    "    return clf\n",
    "\n",
    "\n",
    "def link_prediction_classifier(max_iter=2000):\n",
    "    lr_clf = LogisticRegressionCV(Cs=10, cv=10, scoring=\"roc_auc\", max_iter=max_iter)\n",
    "    return Pipeline(steps=[(\"sc\", StandardScaler()), (\"clf\", lr_clf)])\n",
    "\n",
    "\n",
    "# 3. and 4. evaluate classifier\n",
    "def evaluate_link_prediction_model(\n",
    "    clf, link_examples_test, link_labels_test, get_embedding, binary_operator\n",
    "):\n",
    "    link_features_test = link_examples_to_features(\n",
    "        link_examples_test, get_embedding, binary_operator\n",
    "    )\n",
    "    score = evaluate_roc_auc(clf, link_features_test, link_labels_test)\n",
    "    return score\n",
    "\n",
    "\n",
    "def evaluate_roc_auc(clf, link_features, link_labels):\n",
    "    predicted = clf.predict_proba(link_features)\n",
    "\n",
    "    # check which class corresponds to positive links\n",
    "    positive_column = list(clf.classes_).index(1)\n",
    "    return roc_auc_score(link_labels, predicted[:, positive_column])"
   ]
  },
  {
   "cell_type": "code",
   "execution_count": null,
   "id": "609fd740",
   "metadata": {},
   "outputs": [],
   "source": [
    "def operator_hadamard(u, v):\n",
    "    return u * v\n",
    "\n",
    "\n",
    "def operator_l1(u, v):\n",
    "    return np.abs(u - v)\n",
    "\n",
    "\n",
    "def operator_l2(u, v):\n",
    "    return (u - v) ** 2\n",
    "\n",
    "\n",
    "def run_link_prediction(binary_operator):\n",
    "    clf = train_link_prediction_model(\n",
    "        examples_train, labels_train, embedding_train, binary_operator\n",
    "    )\n",
    "    score = evaluate_link_prediction_model(\n",
    "        clf,\n",
    "        examples_model_selection,\n",
    "        labels_model_selection,\n",
    "        embedding_train,\n",
    "        binary_operator,\n",
    "    )\n",
    "\n",
    "    return {\n",
    "        \"classifier\": clf,\n",
    "        \"binary_operator\": binary_operator,\n",
    "        \"score\": score,\n",
    "    }\n",
    "\n",
    "\n",
    "binary_operators = [operator_hadamard, operator_l1, operator_l2]#, operator_avg]"
   ]
  },
  {
   "cell_type": "code",
   "execution_count": null,
   "id": "a7aa6bf8",
   "metadata": {},
   "outputs": [],
   "source": [
    "results = [run_link_prediction(op) for op in binary_operators]\n",
    "best_result = max(results, key=lambda result: result[\"score\"])\n",
    "\n",
    "print(f\"Best result from '{best_result['binary_operator'].__name__}'\")\n",
    "\n",
    "df2=pd.DataFrame(\n",
    "    [(result[\"binary_operator\"].__name__, result[\"score\"]) for result in results],\n",
    "    columns=(\"name\", \"ROC AUC score\"),\n",
    ").set_index(\"name\")\n",
    "display(df2)"
   ]
  },
  {
   "cell_type": "code",
   "execution_count": null,
   "id": "de90a9be",
   "metadata": {},
   "outputs": [],
   "source": [
    "embedding_test = node2vec_embedding(graph_test, \"Test Graph\")"
   ]
  },
  {
   "cell_type": "code",
   "execution_count": null,
   "id": "353988e3",
   "metadata": {},
   "outputs": [],
   "source": [
    "test_score = evaluate_link_prediction_model(\n",
    "    best_result[\"classifier\"],\n",
    "    examples_test,\n",
    "    labels_test,\n",
    "    embedding_test,\n",
    "    best_result[\"binary_operator\"],\n",
    ")\n",
    "print(\n",
    "    f\"ROC AUC score on test set using '{best_result['binary_operator'].__name__}': {test_score}\"\n",
    ")"
   ]
  },
  {
   "cell_type": "code",
   "execution_count": null,
   "id": "3ee76f9b",
   "metadata": {},
   "outputs": [],
   "source": [
    "# Calculate edge features for test data\n",
    "link_features = link_examples_to_features(\n",
    "    examples_test, embedding_test, best_result[\"binary_operator\"]\n",
    ")\n",
    "\n",
    "# Learn a projection from 128 dimensions to 2\n",
    "pca = PCA(n_components=2)\n",
    "X_transformed = pca.fit_transform(link_features)\n",
    "\n",
    "# plot the 2-dimensional points\n",
    "plt.figure(figsize=(16, 12))\n",
    "plt.scatter(\n",
    "    X_transformed[:, 0],\n",
    "    X_transformed[:, 1],\n",
    "    c=np.where(labels_test == 1, \"b\", \"r\"),\n",
    "    alpha=0.5,\n",
    ")\n",
    "plt.show()"
   ]
  },
  {
   "cell_type": "code",
   "execution_count": null,
   "id": "82b7f1c7",
   "metadata": {},
   "outputs": [],
   "source": []
  }
 ],
 "metadata": {
  "kernelspec": {
   "display_name": "Python 3 (ipykernel)",
   "language": "python",
   "name": "python3"
  },
  "language_info": {
   "codemirror_mode": {
    "name": "ipython",
    "version": 3
   },
   "file_extension": ".py",
   "mimetype": "text/x-python",
   "name": "python",
   "nbconvert_exporter": "python",
   "pygments_lexer": "ipython3",
   "version": "3.8.16"
  }
 },
 "nbformat": 4,
 "nbformat_minor": 5
}
